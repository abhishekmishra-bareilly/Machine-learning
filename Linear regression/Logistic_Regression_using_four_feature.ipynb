{
  "nbformat": 4,
  "nbformat_minor": 0,
  "metadata": {
    "colab": {
      "provenance": [],
      "authorship_tag": "ABX9TyMpaj166mDIkhwo7ccx1bsK",
      "include_colab_link": true
    },
    "kernelspec": {
      "name": "python3",
      "display_name": "Python 3"
    },
    "language_info": {
      "name": "python"
    }
  },
  "cells": [
    {
      "cell_type": "markdown",
      "metadata": {
        "id": "view-in-github",
        "colab_type": "text"
      },
      "source": [
        "<a href=\"https://colab.research.google.com/github/abhishekmishra-bareilly/Machine-learning/blob/main/Logistic_Regression_using_four_feature.ipynb\" target=\"_parent\"><img src=\"https://colab.research.google.com/assets/colab-badge.svg\" alt=\"Open In Colab\"/></a>"
      ]
    },
    {
      "cell_type": "markdown",
      "source": [
        "# Train a logistic regression classifier to predict whether a flower is iris virginica or not from sklearn import datasets"
      ],
      "metadata": {
        "id": "YyM4jcV4jIDx"
      }
    },
    {
      "cell_type": "code",
      "execution_count": 9,
      "metadata": {
        "id": "mpckNJJ4h8Cn"
      },
      "outputs": [],
      "source": [
        "# import the libaryes\n",
        "import matplotlib.pyplot as plt\n",
        "import numpy as np\n",
        "from sklearn import datasets\n",
        "import pandas as pd\n",
        "from sklearn.datasets import load_iris\n",
        "from sklearn.linear_model import LogisticRegression"
      ]
    },
    {
      "cell_type": "code",
      "source": [
        "# load the data\n",
        "iris = datasets.load_iris()"
      ],
      "metadata": {
        "id": "XuHxPlbYlHeW"
      },
      "execution_count": 10,
      "outputs": []
    },
    {
      "cell_type": "code",
      "source": [
        "#print(list(iris.keys()))\n",
        "#print(iris['DESCR'])\n",
        "#print(iris['target'])\n",
        "#print(iris['data'].shape)"
      ],
      "metadata": {
        "id": "LJqCK9UNZKxe"
      },
      "execution_count": 11,
      "outputs": []
    },
    {
      "cell_type": "code",
      "source": [
        "x=iris['data']\n",
        "#print(x)"
      ],
      "metadata": {
        "id": "aVWFd5gYY81O"
      },
      "execution_count": 8,
      "outputs": []
    },
    {
      "cell_type": "code",
      "source": [
        "y = (iris[\"target\"] == 2).astype(np.int32)\n",
        "#print(y)"
      ],
      "metadata": {
        "id": "JmKUTCWWZddJ"
      },
      "execution_count": 12,
      "outputs": []
    },
    {
      "cell_type": "code",
      "source": [
        "# Train a logistic regression classifier\n",
        "clf = LogisticRegression()\n",
        "clf.fit(x, y)"
      ],
      "metadata": {
        "id": "yj-Qr1dYcXul",
        "outputId": "18aac271-7e01-4822-ec53-d93319b142fa",
        "colab": {
          "base_uri": "https://localhost:8080/"
        }
      },
      "execution_count": 13,
      "outputs": [
        {
          "output_type": "execute_result",
          "data": {
            "text/plain": [
              "LogisticRegression()"
            ]
          },
          "metadata": {},
          "execution_count": 13
        }
      ]
    },
    {
      "cell_type": "code",
      "source": [
        "# pridict few examples\n",
        "example = clf.predict(([[5.1, 3.5, 1.4, 0.2]]))\n",
        "if example == [1]:\n",
        "  print('Yes this is iris virginica')\n",
        "else:\n",
        "  print('No this is not iris virginica')"
      ],
      "metadata": {
        "id": "jUbYZpGIci83",
        "outputId": "8057cfea-c280-4f91-ce2f-9fc68f5bc25a",
        "colab": {
          "base_uri": "https://localhost:8080/"
        }
      },
      "execution_count": 14,
      "outputs": [
        {
          "output_type": "stream",
          "name": "stdout",
          "text": [
            "No this is not iris virginica\n"
          ]
        }
      ]
    }
  ]
}
