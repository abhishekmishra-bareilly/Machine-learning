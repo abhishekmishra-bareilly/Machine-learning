{
  "nbformat": 4,
  "nbformat_minor": 0,
  "metadata": {
    "colab": {
      "provenance": [],
      "mount_file_id": "1poqaD5J1oE0f_WqzeyblZFDh1nMKyjig",
      "authorship_tag": "ABX9TyNuo0sIa7BY3nXzl4xiLPyN",
      "include_colab_link": true
    },
    "kernelspec": {
      "name": "python3",
      "display_name": "Python 3"
    },
    "language_info": {
      "name": "python"
    }
  },
  "cells": [
    {
      "cell_type": "markdown",
      "metadata": {
        "id": "view-in-github",
        "colab_type": "text"
      },
      "source": [
        "<a href=\"https://colab.research.google.com/github/abhishekmishra-bareilly/Machine-learning/blob/main/Whether_Humidity_Predictation(DecisionTreeClassifier).ipynb\" target=\"_parent\"><img src=\"https://colab.research.google.com/assets/colab-badge.svg\" alt=\"Open In Colab\"/></a>"
      ]
    },
    {
      "cell_type": "markdown",
      "source": [
        "# **Whether Humidity Predictation**\n",
        "**Problem: Use morning sensor signals as features to predict whether the humidity will be high at 3pm**"
      ],
      "metadata": {
        "id": "pNqsdDE7CdLn"
      }
    },
    {
      "cell_type": "markdown",
      "source": [
        "## **Import the dependancy**\n"
      ],
      "metadata": {
        "id": "X2AJ1tg_CrWK"
      }
    },
    {
      "cell_type": "code",
      "execution_count": 79,
      "metadata": {
        "id": "Q6Ix1Vp8BC9h"
      },
      "outputs": [],
      "source": [
        "# Import the dependancy\n",
        "import pandas as pd\n",
        "import numpy as np\n",
        "from sklearn.model_selection import train_test_split\n",
        "from sklearn.metrics import accuracy_score, auc\n",
        "from sklearn.tree import DecisionTreeClassifier"
      ]
    },
    {
      "cell_type": "markdown",
      "source": [
        "## **Import data**"
      ],
      "metadata": {
        "id": "Be0KmznjDl0t"
      }
    },
    {
      "cell_type": "code",
      "source": [
        "# Import data\n",
        "data = pd.read_csv('/content/drive/MyDrive/Colab Notebooks/Machine Learning/lecture/data/Copy of daily_weather.csv')"
      ],
      "metadata": {
        "id": "OmDH7VJ-DMNV"
      },
      "execution_count": 80,
      "outputs": []
    },
    {
      "cell_type": "code",
      "source": [
        "data.head()"
      ],
      "metadata": {
        "colab": {
          "base_uri": "https://localhost:8080/",
          "height": 270
        },
        "id": "qFFVGUI4Dhzq",
        "outputId": "3ca9e0e6-24c7-4a19-b913-56dfc63de5db"
      },
      "execution_count": 81,
      "outputs": [
        {
          "output_type": "execute_result",
          "data": {
            "text/plain": [
              "   air_pressure_9am  air_temp_9am  avg_wind_direction_9am  avg_wind_speed_9am  \\\n",
              "0        918.060000     74.822000              271.100000            2.080354   \n",
              "1        917.347688     71.403843              101.935179            2.443009   \n",
              "2        923.040000     60.638000               51.000000           17.067852   \n",
              "3        920.502751     70.138895              198.832133            4.337363   \n",
              "4        921.160000     44.294000              277.800000            1.856660   \n",
              "\n",
              "   max_wind_direction_9am  max_wind_speed_9am  rain_accumulation_9am  \\\n",
              "0              295.400000            2.863283                    0.0   \n",
              "1              140.471549            3.533324                    0.0   \n",
              "2               63.700000           22.100967                    0.0   \n",
              "3              211.203341            5.190045                    0.0   \n",
              "4              136.500000            2.863283                    8.9   \n",
              "\n",
              "   rain_duration_9am  relative_humidity_9am  high_humidity_3pm  \n",
              "0                0.0              42.420000                  1  \n",
              "1                0.0              24.328697                  0  \n",
              "2               20.0               8.900000                  0  \n",
              "3                0.0              12.189102                  0  \n",
              "4            14730.0              92.410000                  1  "
            ],
            "text/html": [
              "\n",
              "  <div id=\"df-c1585738-0e2a-487e-a04f-3c78668e18cd\">\n",
              "    <div class=\"colab-df-container\">\n",
              "      <div>\n",
              "<style scoped>\n",
              "    .dataframe tbody tr th:only-of-type {\n",
              "        vertical-align: middle;\n",
              "    }\n",
              "\n",
              "    .dataframe tbody tr th {\n",
              "        vertical-align: top;\n",
              "    }\n",
              "\n",
              "    .dataframe thead th {\n",
              "        text-align: right;\n",
              "    }\n",
              "</style>\n",
              "<table border=\"1\" class=\"dataframe\">\n",
              "  <thead>\n",
              "    <tr style=\"text-align: right;\">\n",
              "      <th></th>\n",
              "      <th>air_pressure_9am</th>\n",
              "      <th>air_temp_9am</th>\n",
              "      <th>avg_wind_direction_9am</th>\n",
              "      <th>avg_wind_speed_9am</th>\n",
              "      <th>max_wind_direction_9am</th>\n",
              "      <th>max_wind_speed_9am</th>\n",
              "      <th>rain_accumulation_9am</th>\n",
              "      <th>rain_duration_9am</th>\n",
              "      <th>relative_humidity_9am</th>\n",
              "      <th>high_humidity_3pm</th>\n",
              "    </tr>\n",
              "  </thead>\n",
              "  <tbody>\n",
              "    <tr>\n",
              "      <th>0</th>\n",
              "      <td>918.060000</td>\n",
              "      <td>74.822000</td>\n",
              "      <td>271.100000</td>\n",
              "      <td>2.080354</td>\n",
              "      <td>295.400000</td>\n",
              "      <td>2.863283</td>\n",
              "      <td>0.0</td>\n",
              "      <td>0.0</td>\n",
              "      <td>42.420000</td>\n",
              "      <td>1</td>\n",
              "    </tr>\n",
              "    <tr>\n",
              "      <th>1</th>\n",
              "      <td>917.347688</td>\n",
              "      <td>71.403843</td>\n",
              "      <td>101.935179</td>\n",
              "      <td>2.443009</td>\n",
              "      <td>140.471549</td>\n",
              "      <td>3.533324</td>\n",
              "      <td>0.0</td>\n",
              "      <td>0.0</td>\n",
              "      <td>24.328697</td>\n",
              "      <td>0</td>\n",
              "    </tr>\n",
              "    <tr>\n",
              "      <th>2</th>\n",
              "      <td>923.040000</td>\n",
              "      <td>60.638000</td>\n",
              "      <td>51.000000</td>\n",
              "      <td>17.067852</td>\n",
              "      <td>63.700000</td>\n",
              "      <td>22.100967</td>\n",
              "      <td>0.0</td>\n",
              "      <td>20.0</td>\n",
              "      <td>8.900000</td>\n",
              "      <td>0</td>\n",
              "    </tr>\n",
              "    <tr>\n",
              "      <th>3</th>\n",
              "      <td>920.502751</td>\n",
              "      <td>70.138895</td>\n",
              "      <td>198.832133</td>\n",
              "      <td>4.337363</td>\n",
              "      <td>211.203341</td>\n",
              "      <td>5.190045</td>\n",
              "      <td>0.0</td>\n",
              "      <td>0.0</td>\n",
              "      <td>12.189102</td>\n",
              "      <td>0</td>\n",
              "    </tr>\n",
              "    <tr>\n",
              "      <th>4</th>\n",
              "      <td>921.160000</td>\n",
              "      <td>44.294000</td>\n",
              "      <td>277.800000</td>\n",
              "      <td>1.856660</td>\n",
              "      <td>136.500000</td>\n",
              "      <td>2.863283</td>\n",
              "      <td>8.9</td>\n",
              "      <td>14730.0</td>\n",
              "      <td>92.410000</td>\n",
              "      <td>1</td>\n",
              "    </tr>\n",
              "  </tbody>\n",
              "</table>\n",
              "</div>\n",
              "      <button class=\"colab-df-convert\" onclick=\"convertToInteractive('df-c1585738-0e2a-487e-a04f-3c78668e18cd')\"\n",
              "              title=\"Convert this dataframe to an interactive table.\"\n",
              "              style=\"display:none;\">\n",
              "        \n",
              "  <svg xmlns=\"http://www.w3.org/2000/svg\" height=\"24px\"viewBox=\"0 0 24 24\"\n",
              "       width=\"24px\">\n",
              "    <path d=\"M0 0h24v24H0V0z\" fill=\"none\"/>\n",
              "    <path d=\"M18.56 5.44l.94 2.06.94-2.06 2.06-.94-2.06-.94-.94-2.06-.94 2.06-2.06.94zm-11 1L8.5 8.5l.94-2.06 2.06-.94-2.06-.94L8.5 2.5l-.94 2.06-2.06.94zm10 10l.94 2.06.94-2.06 2.06-.94-2.06-.94-.94-2.06-.94 2.06-2.06.94z\"/><path d=\"M17.41 7.96l-1.37-1.37c-.4-.4-.92-.59-1.43-.59-.52 0-1.04.2-1.43.59L10.3 9.45l-7.72 7.72c-.78.78-.78 2.05 0 2.83L4 21.41c.39.39.9.59 1.41.59.51 0 1.02-.2 1.41-.59l7.78-7.78 2.81-2.81c.8-.78.8-2.07 0-2.86zM5.41 20L4 18.59l7.72-7.72 1.47 1.35L5.41 20z\"/>\n",
              "  </svg>\n",
              "      </button>\n",
              "      \n",
              "  <style>\n",
              "    .colab-df-container {\n",
              "      display:flex;\n",
              "      flex-wrap:wrap;\n",
              "      gap: 12px;\n",
              "    }\n",
              "\n",
              "    .colab-df-convert {\n",
              "      background-color: #E8F0FE;\n",
              "      border: none;\n",
              "      border-radius: 50%;\n",
              "      cursor: pointer;\n",
              "      display: none;\n",
              "      fill: #1967D2;\n",
              "      height: 32px;\n",
              "      padding: 0 0 0 0;\n",
              "      width: 32px;\n",
              "    }\n",
              "\n",
              "    .colab-df-convert:hover {\n",
              "      background-color: #E2EBFA;\n",
              "      box-shadow: 0px 1px 2px rgba(60, 64, 67, 0.3), 0px 1px 3px 1px rgba(60, 64, 67, 0.15);\n",
              "      fill: #174EA6;\n",
              "    }\n",
              "\n",
              "    [theme=dark] .colab-df-convert {\n",
              "      background-color: #3B4455;\n",
              "      fill: #D2E3FC;\n",
              "    }\n",
              "\n",
              "    [theme=dark] .colab-df-convert:hover {\n",
              "      background-color: #434B5C;\n",
              "      box-shadow: 0px 1px 3px 1px rgba(0, 0, 0, 0.15);\n",
              "      filter: drop-shadow(0px 1px 2px rgba(0, 0, 0, 0.3));\n",
              "      fill: #FFFFFF;\n",
              "    }\n",
              "  </style>\n",
              "\n",
              "      <script>\n",
              "        const buttonEl =\n",
              "          document.querySelector('#df-c1585738-0e2a-487e-a04f-3c78668e18cd button.colab-df-convert');\n",
              "        buttonEl.style.display =\n",
              "          google.colab.kernel.accessAllowed ? 'block' : 'none';\n",
              "\n",
              "        async function convertToInteractive(key) {\n",
              "          const element = document.querySelector('#df-c1585738-0e2a-487e-a04f-3c78668e18cd');\n",
              "          const dataTable =\n",
              "            await google.colab.kernel.invokeFunction('convertToInteractive',\n",
              "                                                     [key], {});\n",
              "          if (!dataTable) return;\n",
              "\n",
              "          const docLinkHtml = 'Like what you see? Visit the ' +\n",
              "            '<a target=\"_blank\" href=https://colab.research.google.com/notebooks/data_table.ipynb>data table notebook</a>'\n",
              "            + ' to learn more about interactive tables.';\n",
              "          element.innerHTML = '';\n",
              "          dataTable['output_type'] = 'display_data';\n",
              "          await google.colab.output.renderOutput(dataTable, element);\n",
              "          const docLink = document.createElement('div');\n",
              "          docLink.innerHTML = docLinkHtml;\n",
              "          element.appendChild(docLink);\n",
              "        }\n",
              "      </script>\n",
              "    </div>\n",
              "  </div>\n",
              "  "
            ]
          },
          "metadata": {},
          "execution_count": 81
        }
      ]
    },
    {
      "cell_type": "code",
      "source": [
        "data.shape"
      ],
      "metadata": {
        "colab": {
          "base_uri": "https://localhost:8080/"
        },
        "id": "fwbHEeOQEI-s",
        "outputId": "fecca721-63e9-449a-f5fb-209599a106f8"
      },
      "execution_count": 82,
      "outputs": [
        {
          "output_type": "execute_result",
          "data": {
            "text/plain": [
              "(1095, 10)"
            ]
          },
          "metadata": {},
          "execution_count": 82
        }
      ]
    },
    {
      "cell_type": "markdown",
      "source": [
        "## **EDA**"
      ],
      "metadata": {
        "id": "KXTLJYxtDyyZ"
      }
    },
    {
      "cell_type": "markdown",
      "source": [
        "### **Data cleaning**"
      ],
      "metadata": {
        "id": "IUVrlmizD8iW"
      }
    },
    {
      "cell_type": "code",
      "source": [
        "data.isnull().sum()"
      ],
      "metadata": {
        "colab": {
          "base_uri": "https://localhost:8080/"
        },
        "id": "4olna8vNDj6a",
        "outputId": "c9050633-2ca1-4a72-cfa3-d1919fd0779f"
      },
      "execution_count": 83,
      "outputs": [
        {
          "output_type": "execute_result",
          "data": {
            "text/plain": [
              "air_pressure_9am          3\n",
              "air_temp_9am              5\n",
              "avg_wind_direction_9am    4\n",
              "avg_wind_speed_9am        3\n",
              "max_wind_direction_9am    3\n",
              "max_wind_speed_9am        4\n",
              "rain_accumulation_9am     6\n",
              "rain_duration_9am         3\n",
              "relative_humidity_9am     0\n",
              "high_humidity_3pm         0\n",
              "dtype: int64"
            ]
          },
          "metadata": {},
          "execution_count": 83
        }
      ]
    },
    {
      "cell_type": "code",
      "source": [
        "# Removing all null values from the data\n",
        "data.dropna(inplace=True)"
      ],
      "metadata": {
        "id": "CZOT6eLQEWFj"
      },
      "execution_count": 84,
      "outputs": []
    },
    {
      "cell_type": "code",
      "source": [
        "data.isnull().sum()"
      ],
      "metadata": {
        "colab": {
          "base_uri": "https://localhost:8080/"
        },
        "id": "x0XYyR_pEwKp",
        "outputId": "4759ad0a-cff1-4462-ea76-b10e8f68ca15"
      },
      "execution_count": 85,
      "outputs": [
        {
          "output_type": "execute_result",
          "data": {
            "text/plain": [
              "air_pressure_9am          0\n",
              "air_temp_9am              0\n",
              "avg_wind_direction_9am    0\n",
              "avg_wind_speed_9am        0\n",
              "max_wind_direction_9am    0\n",
              "max_wind_speed_9am        0\n",
              "rain_accumulation_9am     0\n",
              "rain_duration_9am         0\n",
              "relative_humidity_9am     0\n",
              "high_humidity_3pm         0\n",
              "dtype: int64"
            ]
          },
          "metadata": {},
          "execution_count": 85
        }
      ]
    },
    {
      "cell_type": "markdown",
      "source": [
        "\n",
        "\n",
        "*   Now our data is clean\n",
        "\n"
      ],
      "metadata": {
        "id": "Kc_sTTiAE6iT"
      }
    },
    {
      "cell_type": "markdown",
      "source": [
        "### **Data describe**"
      ],
      "metadata": {
        "id": "RmD0q7P4E-ix"
      }
    },
    {
      "cell_type": "code",
      "source": [
        "data.describe()"
      ],
      "metadata": {
        "colab": {
          "base_uri": "https://localhost:8080/",
          "height": 364
        },
        "id": "VDR0fbD0EymM",
        "outputId": "08a2034b-deab-49ba-9dae-8182b37c0ffb"
      },
      "execution_count": 86,
      "outputs": [
        {
          "output_type": "execute_result",
          "data": {
            "text/plain": [
              "       air_pressure_9am  air_temp_9am  avg_wind_direction_9am  \\\n",
              "count       1064.000000   1064.000000             1064.000000   \n",
              "mean         918.903180     65.022609              142.306756   \n",
              "std            3.179040     11.168033               69.149472   \n",
              "min          907.990000     36.752000               15.500000   \n",
              "25%          916.595376     57.398000               65.979244   \n",
              "50%          918.942281     65.778479              165.937461   \n",
              "75%          921.169054     73.530872              191.100000   \n",
              "max          929.320000     98.906000              343.400000   \n",
              "\n",
              "       avg_wind_speed_9am  max_wind_direction_9am  max_wind_speed_9am  \\\n",
              "count         1064.000000             1064.000000         1064.000000   \n",
              "mean             5.485793              148.480424            6.999714   \n",
              "std              4.534427               67.154911            5.590790   \n",
              "min              0.693451               28.900000            1.185578   \n",
              "25%              2.245529               76.335351            3.064608   \n",
              "50%              3.869906              176.350000            4.943637   \n",
              "75%              7.264463              201.125000            8.747888   \n",
              "max             23.554978              312.200000           29.840780   \n",
              "\n",
              "       rain_accumulation_9am  rain_duration_9am  relative_humidity_9am  \\\n",
              "count            1064.000000        1064.000000            1064.000000   \n",
              "mean                0.182023         266.393697              34.077440   \n",
              "std                 1.534493        1503.092216              25.356668   \n",
              "min                 0.000000           0.000000               6.090000   \n",
              "25%                 0.000000           0.000000              15.093365   \n",
              "50%                 0.000000           0.000000              23.135000   \n",
              "75%                 0.000000           0.000000              44.660000   \n",
              "max                24.020000       17704.000000              92.620000   \n",
              "\n",
              "       high_humidity_3pm  \n",
              "count        1064.000000  \n",
              "mean            0.497180  \n",
              "std             0.500227  \n",
              "min             0.000000  \n",
              "25%             0.000000  \n",
              "50%             0.000000  \n",
              "75%             1.000000  \n",
              "max             1.000000  "
            ],
            "text/html": [
              "\n",
              "  <div id=\"df-93d3cee2-741c-48f3-ae6b-e821b0edf3cd\">\n",
              "    <div class=\"colab-df-container\">\n",
              "      <div>\n",
              "<style scoped>\n",
              "    .dataframe tbody tr th:only-of-type {\n",
              "        vertical-align: middle;\n",
              "    }\n",
              "\n",
              "    .dataframe tbody tr th {\n",
              "        vertical-align: top;\n",
              "    }\n",
              "\n",
              "    .dataframe thead th {\n",
              "        text-align: right;\n",
              "    }\n",
              "</style>\n",
              "<table border=\"1\" class=\"dataframe\">\n",
              "  <thead>\n",
              "    <tr style=\"text-align: right;\">\n",
              "      <th></th>\n",
              "      <th>air_pressure_9am</th>\n",
              "      <th>air_temp_9am</th>\n",
              "      <th>avg_wind_direction_9am</th>\n",
              "      <th>avg_wind_speed_9am</th>\n",
              "      <th>max_wind_direction_9am</th>\n",
              "      <th>max_wind_speed_9am</th>\n",
              "      <th>rain_accumulation_9am</th>\n",
              "      <th>rain_duration_9am</th>\n",
              "      <th>relative_humidity_9am</th>\n",
              "      <th>high_humidity_3pm</th>\n",
              "    </tr>\n",
              "  </thead>\n",
              "  <tbody>\n",
              "    <tr>\n",
              "      <th>count</th>\n",
              "      <td>1064.000000</td>\n",
              "      <td>1064.000000</td>\n",
              "      <td>1064.000000</td>\n",
              "      <td>1064.000000</td>\n",
              "      <td>1064.000000</td>\n",
              "      <td>1064.000000</td>\n",
              "      <td>1064.000000</td>\n",
              "      <td>1064.000000</td>\n",
              "      <td>1064.000000</td>\n",
              "      <td>1064.000000</td>\n",
              "    </tr>\n",
              "    <tr>\n",
              "      <th>mean</th>\n",
              "      <td>918.903180</td>\n",
              "      <td>65.022609</td>\n",
              "      <td>142.306756</td>\n",
              "      <td>5.485793</td>\n",
              "      <td>148.480424</td>\n",
              "      <td>6.999714</td>\n",
              "      <td>0.182023</td>\n",
              "      <td>266.393697</td>\n",
              "      <td>34.077440</td>\n",
              "      <td>0.497180</td>\n",
              "    </tr>\n",
              "    <tr>\n",
              "      <th>std</th>\n",
              "      <td>3.179040</td>\n",
              "      <td>11.168033</td>\n",
              "      <td>69.149472</td>\n",
              "      <td>4.534427</td>\n",
              "      <td>67.154911</td>\n",
              "      <td>5.590790</td>\n",
              "      <td>1.534493</td>\n",
              "      <td>1503.092216</td>\n",
              "      <td>25.356668</td>\n",
              "      <td>0.500227</td>\n",
              "    </tr>\n",
              "    <tr>\n",
              "      <th>min</th>\n",
              "      <td>907.990000</td>\n",
              "      <td>36.752000</td>\n",
              "      <td>15.500000</td>\n",
              "      <td>0.693451</td>\n",
              "      <td>28.900000</td>\n",
              "      <td>1.185578</td>\n",
              "      <td>0.000000</td>\n",
              "      <td>0.000000</td>\n",
              "      <td>6.090000</td>\n",
              "      <td>0.000000</td>\n",
              "    </tr>\n",
              "    <tr>\n",
              "      <th>25%</th>\n",
              "      <td>916.595376</td>\n",
              "      <td>57.398000</td>\n",
              "      <td>65.979244</td>\n",
              "      <td>2.245529</td>\n",
              "      <td>76.335351</td>\n",
              "      <td>3.064608</td>\n",
              "      <td>0.000000</td>\n",
              "      <td>0.000000</td>\n",
              "      <td>15.093365</td>\n",
              "      <td>0.000000</td>\n",
              "    </tr>\n",
              "    <tr>\n",
              "      <th>50%</th>\n",
              "      <td>918.942281</td>\n",
              "      <td>65.778479</td>\n",
              "      <td>165.937461</td>\n",
              "      <td>3.869906</td>\n",
              "      <td>176.350000</td>\n",
              "      <td>4.943637</td>\n",
              "      <td>0.000000</td>\n",
              "      <td>0.000000</td>\n",
              "      <td>23.135000</td>\n",
              "      <td>0.000000</td>\n",
              "    </tr>\n",
              "    <tr>\n",
              "      <th>75%</th>\n",
              "      <td>921.169054</td>\n",
              "      <td>73.530872</td>\n",
              "      <td>191.100000</td>\n",
              "      <td>7.264463</td>\n",
              "      <td>201.125000</td>\n",
              "      <td>8.747888</td>\n",
              "      <td>0.000000</td>\n",
              "      <td>0.000000</td>\n",
              "      <td>44.660000</td>\n",
              "      <td>1.000000</td>\n",
              "    </tr>\n",
              "    <tr>\n",
              "      <th>max</th>\n",
              "      <td>929.320000</td>\n",
              "      <td>98.906000</td>\n",
              "      <td>343.400000</td>\n",
              "      <td>23.554978</td>\n",
              "      <td>312.200000</td>\n",
              "      <td>29.840780</td>\n",
              "      <td>24.020000</td>\n",
              "      <td>17704.000000</td>\n",
              "      <td>92.620000</td>\n",
              "      <td>1.000000</td>\n",
              "    </tr>\n",
              "  </tbody>\n",
              "</table>\n",
              "</div>\n",
              "      <button class=\"colab-df-convert\" onclick=\"convertToInteractive('df-93d3cee2-741c-48f3-ae6b-e821b0edf3cd')\"\n",
              "              title=\"Convert this dataframe to an interactive table.\"\n",
              "              style=\"display:none;\">\n",
              "        \n",
              "  <svg xmlns=\"http://www.w3.org/2000/svg\" height=\"24px\"viewBox=\"0 0 24 24\"\n",
              "       width=\"24px\">\n",
              "    <path d=\"M0 0h24v24H0V0z\" fill=\"none\"/>\n",
              "    <path d=\"M18.56 5.44l.94 2.06.94-2.06 2.06-.94-2.06-.94-.94-2.06-.94 2.06-2.06.94zm-11 1L8.5 8.5l.94-2.06 2.06-.94-2.06-.94L8.5 2.5l-.94 2.06-2.06.94zm10 10l.94 2.06.94-2.06 2.06-.94-2.06-.94-.94-2.06-.94 2.06-2.06.94z\"/><path d=\"M17.41 7.96l-1.37-1.37c-.4-.4-.92-.59-1.43-.59-.52 0-1.04.2-1.43.59L10.3 9.45l-7.72 7.72c-.78.78-.78 2.05 0 2.83L4 21.41c.39.39.9.59 1.41.59.51 0 1.02-.2 1.41-.59l7.78-7.78 2.81-2.81c.8-.78.8-2.07 0-2.86zM5.41 20L4 18.59l7.72-7.72 1.47 1.35L5.41 20z\"/>\n",
              "  </svg>\n",
              "      </button>\n",
              "      \n",
              "  <style>\n",
              "    .colab-df-container {\n",
              "      display:flex;\n",
              "      flex-wrap:wrap;\n",
              "      gap: 12px;\n",
              "    }\n",
              "\n",
              "    .colab-df-convert {\n",
              "      background-color: #E8F0FE;\n",
              "      border: none;\n",
              "      border-radius: 50%;\n",
              "      cursor: pointer;\n",
              "      display: none;\n",
              "      fill: #1967D2;\n",
              "      height: 32px;\n",
              "      padding: 0 0 0 0;\n",
              "      width: 32px;\n",
              "    }\n",
              "\n",
              "    .colab-df-convert:hover {\n",
              "      background-color: #E2EBFA;\n",
              "      box-shadow: 0px 1px 2px rgba(60, 64, 67, 0.3), 0px 1px 3px 1px rgba(60, 64, 67, 0.15);\n",
              "      fill: #174EA6;\n",
              "    }\n",
              "\n",
              "    [theme=dark] .colab-df-convert {\n",
              "      background-color: #3B4455;\n",
              "      fill: #D2E3FC;\n",
              "    }\n",
              "\n",
              "    [theme=dark] .colab-df-convert:hover {\n",
              "      background-color: #434B5C;\n",
              "      box-shadow: 0px 1px 3px 1px rgba(0, 0, 0, 0.15);\n",
              "      filter: drop-shadow(0px 1px 2px rgba(0, 0, 0, 0.3));\n",
              "      fill: #FFFFFF;\n",
              "    }\n",
              "  </style>\n",
              "\n",
              "      <script>\n",
              "        const buttonEl =\n",
              "          document.querySelector('#df-93d3cee2-741c-48f3-ae6b-e821b0edf3cd button.colab-df-convert');\n",
              "        buttonEl.style.display =\n",
              "          google.colab.kernel.accessAllowed ? 'block' : 'none';\n",
              "\n",
              "        async function convertToInteractive(key) {\n",
              "          const element = document.querySelector('#df-93d3cee2-741c-48f3-ae6b-e821b0edf3cd');\n",
              "          const dataTable =\n",
              "            await google.colab.kernel.invokeFunction('convertToInteractive',\n",
              "                                                     [key], {});\n",
              "          if (!dataTable) return;\n",
              "\n",
              "          const docLinkHtml = 'Like what you see? Visit the ' +\n",
              "            '<a target=\"_blank\" href=https://colab.research.google.com/notebooks/data_table.ipynb>data table notebook</a>'\n",
              "            + ' to learn more about interactive tables.';\n",
              "          element.innerHTML = '';\n",
              "          dataTable['output_type'] = 'display_data';\n",
              "          await google.colab.output.renderOutput(dataTable, element);\n",
              "          const docLink = document.createElement('div');\n",
              "          docLink.innerHTML = docLinkHtml;\n",
              "          element.appendChild(docLink);\n",
              "        }\n",
              "      </script>\n",
              "    </div>\n",
              "  </div>\n",
              "  "
            ]
          },
          "metadata": {},
          "execution_count": 86
        }
      ]
    },
    {
      "cell_type": "markdown",
      "source": [
        "## **Data processing** "
      ],
      "metadata": {
        "id": "jCUHM8-6FPWk"
      }
    },
    {
      "cell_type": "markdown",
      "source": [
        "### **Check data destribution of target lable**"
      ],
      "metadata": {
        "id": "xNoEVpSEHc3p"
      }
    },
    {
      "cell_type": "code",
      "source": [
        "data['high_humidity_3pm'].value_counts()"
      ],
      "metadata": {
        "colab": {
          "base_uri": "https://localhost:8080/"
        },
        "id": "upxcmAcoHnyy",
        "outputId": "ea8d1688-68fa-4247-d68e-8f4e9d60107f"
      },
      "execution_count": 87,
      "outputs": [
        {
          "output_type": "execute_result",
          "data": {
            "text/plain": [
              "0    535\n",
              "1    529\n",
              "Name: high_humidity_3pm, dtype: int64"
            ]
          },
          "metadata": {},
          "execution_count": 87
        }
      ]
    },
    {
      "cell_type": "markdown",
      "source": [
        "* **Data is almost equally distributed**\n",
        "* **0 --> Not Humidity**\n",
        "* **1 --> Humidity**"
      ],
      "metadata": {
        "id": "HJ8Qxx3cHvx-"
      }
    },
    {
      "cell_type": "markdown",
      "source": [
        "### **Split feature and target as x and y**"
      ],
      "metadata": {
        "id": "5gGyFh-9FbOy"
      }
    },
    {
      "cell_type": "code",
      "source": [
        "x = data.drop(columns = 'high_humidity_3pm', axis = 1)\n",
        "y = data['high_humidity_3pm']"
      ],
      "metadata": {
        "id": "7oWU46qQFG00"
      },
      "execution_count": 88,
      "outputs": []
    },
    {
      "cell_type": "code",
      "source": [
        "x.columns"
      ],
      "metadata": {
        "colab": {
          "base_uri": "https://localhost:8080/"
        },
        "id": "gtIq1wzRF1Jz",
        "outputId": "0e53e681-c06c-44f3-9851-85684dff5c0d"
      },
      "execution_count": 89,
      "outputs": [
        {
          "output_type": "execute_result",
          "data": {
            "text/plain": [
              "Index(['air_pressure_9am', 'air_temp_9am', 'avg_wind_direction_9am',\n",
              "       'avg_wind_speed_9am', 'max_wind_direction_9am', 'max_wind_speed_9am',\n",
              "       'rain_accumulation_9am', 'rain_duration_9am', 'relative_humidity_9am'],\n",
              "      dtype='object')"
            ]
          },
          "metadata": {},
          "execution_count": 89
        }
      ]
    },
    {
      "cell_type": "code",
      "source": [
        "print(x)"
      ],
      "metadata": {
        "colab": {
          "base_uri": "https://localhost:8080/"
        },
        "id": "RzHDusjGGFg6",
        "outputId": "d3312d9e-3ed0-4ed2-ec51-e37b7a4c8c65"
      },
      "execution_count": 90,
      "outputs": [
        {
          "output_type": "stream",
          "name": "stdout",
          "text": [
            "      air_pressure_9am  air_temp_9am  avg_wind_direction_9am  \\\n",
            "0           918.060000     74.822000              271.100000   \n",
            "1           917.347688     71.403843              101.935179   \n",
            "2           923.040000     60.638000               51.000000   \n",
            "3           920.502751     70.138895              198.832133   \n",
            "4           921.160000     44.294000              277.800000   \n",
            "...                ...           ...                     ...   \n",
            "1090        918.900000     63.104000              192.900000   \n",
            "1091        918.710000     49.568000              241.600000   \n",
            "1092        916.600000     71.096000              189.300000   \n",
            "1093        912.600000     58.406000              172.700000   \n",
            "1094        921.530000     77.702000               97.100000   \n",
            "\n",
            "      avg_wind_speed_9am  max_wind_direction_9am  max_wind_speed_9am  \\\n",
            "0               2.080354              295.400000            2.863283   \n",
            "1               2.443009              140.471549            3.533324   \n",
            "2              17.067852               63.700000           22.100967   \n",
            "3               4.337363              211.203341            5.190045   \n",
            "4               1.856660              136.500000            2.863283   \n",
            "...                  ...                     ...                 ...   \n",
            "1090            3.869906              207.300000            5.212070   \n",
            "1091            1.811921              227.400000            2.371156   \n",
            "1092            3.064608              200.800000            3.892276   \n",
            "1093            3.825167              189.100000            4.764682   \n",
            "1094            3.265932              125.900000            4.451511   \n",
            "\n",
            "      rain_accumulation_9am  rain_duration_9am  relative_humidity_9am  \n",
            "0                       0.0                0.0              42.420000  \n",
            "1                       0.0                0.0              24.328697  \n",
            "2                       0.0               20.0               8.900000  \n",
            "3                       0.0                0.0              12.189102  \n",
            "4                       8.9            14730.0              92.410000  \n",
            "...                     ...                ...                    ...  \n",
            "1090                    0.0                0.0              26.020000  \n",
            "1091                    0.0                0.0              90.350000  \n",
            "1092                    0.0                0.0              45.590000  \n",
            "1093                    0.0                0.0              64.840000  \n",
            "1094                    0.0                0.0              14.560000  \n",
            "\n",
            "[1064 rows x 9 columns]\n"
          ]
        }
      ]
    },
    {
      "cell_type": "code",
      "source": [
        "print(y)"
      ],
      "metadata": {
        "colab": {
          "base_uri": "https://localhost:8080/"
        },
        "id": "lWFF_GLQGPPi",
        "outputId": "f59836cb-f2c9-49cf-d675-e6e92d2e2e67"
      },
      "execution_count": 91,
      "outputs": [
        {
          "output_type": "stream",
          "name": "stdout",
          "text": [
            "0       1\n",
            "1       0\n",
            "2       0\n",
            "3       0\n",
            "4       1\n",
            "       ..\n",
            "1090    1\n",
            "1091    1\n",
            "1092    1\n",
            "1093    1\n",
            "1094    0\n",
            "Name: high_humidity_3pm, Length: 1064, dtype: int64\n"
          ]
        }
      ]
    },
    {
      "cell_type": "markdown",
      "source": [
        "## **Split data as train and test data**"
      ],
      "metadata": {
        "id": "NV26hypgGcPX"
      }
    },
    {
      "cell_type": "code",
      "source": [
        "x_train, x_test, y_train, y_test = train_test_split(x, y, test_size = 0.33, random_state = 324)"
      ],
      "metadata": {
        "id": "Pl4I3PWeGRmc"
      },
      "execution_count": 92,
      "outputs": []
    },
    {
      "cell_type": "code",
      "source": [
        "print(x.shape, x_train.shape, x_test.shape)"
      ],
      "metadata": {
        "colab": {
          "base_uri": "https://localhost:8080/"
        },
        "id": "onnQI14tG92W",
        "outputId": "b18f7ae2-282f-4e3c-c1f2-c1ebdb7571e8"
      },
      "execution_count": 93,
      "outputs": [
        {
          "output_type": "stream",
          "name": "stdout",
          "text": [
            "(1064, 9) (712, 9) (352, 9)\n"
          ]
        }
      ]
    },
    {
      "cell_type": "markdown",
      "source": [
        "## **Model**"
      ],
      "metadata": {
        "id": "iwBBAQ-oIQGA"
      }
    },
    {
      "cell_type": "markdown",
      "source": [
        "### **Decision Tree Classifier**"
      ],
      "metadata": {
        "id": "yHq8c6jrITxi"
      }
    },
    {
      "cell_type": "code",
      "source": [
        "model = DecisionTreeClassifier(criterion='entropy', max_leaf_nodes=10, random_state=0)"
      ],
      "metadata": {
        "id": "VSb91QgzHJaW"
      },
      "execution_count": 94,
      "outputs": []
    },
    {
      "cell_type": "markdown",
      "source": [
        "**Fitting Model**"
      ],
      "metadata": {
        "id": "aQGZqXq4I72G"
      }
    },
    {
      "cell_type": "code",
      "source": [
        "# Fitting Model\n",
        "model.fit(x_train, y_train)"
      ],
      "metadata": {
        "colab": {
          "base_uri": "https://localhost:8080/"
        },
        "id": "Tp8FsbZTIlUs",
        "outputId": "8a99d8cc-6a5d-4cdd-e17d-a724b8474a49"
      },
      "execution_count": 95,
      "outputs": [
        {
          "output_type": "execute_result",
          "data": {
            "text/plain": [
              "DecisionTreeClassifier(criterion='entropy', max_leaf_nodes=10, random_state=0)"
            ]
          },
          "metadata": {},
          "execution_count": 95
        }
      ]
    },
    {
      "cell_type": "markdown",
      "source": [
        "## **Model Evaluation**"
      ],
      "metadata": {
        "id": "vOePlvzXJSr7"
      }
    },
    {
      "cell_type": "markdown",
      "source": [
        "### **Score on training data**"
      ],
      "metadata": {
        "id": "Ng1sKaP8J_vO"
      }
    },
    {
      "cell_type": "code",
      "source": [
        "train_data_pred = model.predict(x_train)\n",
        "score_training = accuracy_score(y_train,train_data_pred) "
      ],
      "metadata": {
        "id": "HkTsm3EFI01F"
      },
      "execution_count": 96,
      "outputs": []
    },
    {
      "cell_type": "code",
      "source": [
        "print('Score on training data:-',score_training)"
      ],
      "metadata": {
        "colab": {
          "base_uri": "https://localhost:8080/"
        },
        "id": "7UOhG-9jNLX2",
        "outputId": "d1e10a31-81a9-449f-8b70-b111f17c734c"
      },
      "execution_count": 97,
      "outputs": [
        {
          "output_type": "stream",
          "name": "stdout",
          "text": [
            "Score on training data:- 0.8834269662921348\n"
          ]
        }
      ]
    },
    {
      "cell_type": "markdown",
      "source": [
        "### **Score on testing data**"
      ],
      "metadata": {
        "id": "g2U4AYJANZlU"
      }
    },
    {
      "cell_type": "code",
      "source": [
        "test_data_pred = model.predict(x_test)\n",
        "score_testing = accuracy_score(y_test,test_data_pred) "
      ],
      "metadata": {
        "id": "sXSizEjZNUBr"
      },
      "execution_count": 98,
      "outputs": []
    },
    {
      "cell_type": "code",
      "source": [
        "print('Score on testing data:-',score_testing)"
      ],
      "metadata": {
        "colab": {
          "base_uri": "https://localhost:8080/"
        },
        "id": "mPRjs7vhN1m8",
        "outputId": "5eae1f42-b712-4252-c7f1-8b0d195d151a"
      },
      "execution_count": 99,
      "outputs": [
        {
          "output_type": "stream",
          "name": "stdout",
          "text": [
            "Score on testing data:- 0.9090909090909091\n"
          ]
        }
      ]
    },
    {
      "cell_type": "code",
      "source": [],
      "metadata": {
        "id": "slOHJolIQbFM"
      },
      "execution_count": 99,
      "outputs": []
    }
  ]
}