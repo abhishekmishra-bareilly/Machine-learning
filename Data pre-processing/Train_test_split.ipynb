{
  "nbformat": 4,
  "nbformat_minor": 0,
  "metadata": {
    "colab": {
      "provenance": [],
      "authorship_tag": "ABX9TyNSE9LINk7bLQeDn4wtf1z4",
      "include_colab_link": true
    },
    "kernelspec": {
      "name": "python3",
      "display_name": "Python 3"
    },
    "language_info": {
      "name": "python"
    }
  },
  "cells": [
    {
      "cell_type": "markdown",
      "metadata": {
        "id": "view-in-github",
        "colab_type": "text"
      },
      "source": [
        "<a href=\"https://colab.research.google.com/github/abhishekmishra-bareilly/Machine-learning/blob/main/train_test_split.ipynb\" target=\"_parent\"><img src=\"https://colab.research.google.com/assets/colab-badge.svg\" alt=\"Open In Colab\"/></a>"
      ]
    },
    {
      "cell_type": "markdown",
      "source": [
        "# Train Test split function"
      ],
      "metadata": {
        "id": "8v_v48voQFlS"
      }
    },
    {
      "cell_type": "code",
      "execution_count": 1,
      "metadata": {
        "id": "dyY3JFTzxc7s"
      },
      "outputs": [],
      "source": [
        "# Librarry import\n",
        "import pandas as pd"
      ]
    },
    {
      "cell_type": "code",
      "source": [
        "# connect google drive to run the file\n",
        "from google.colab import drive #connect with google drive\n",
        "drive.mount('/content/Drive')"
      ],
      "metadata": {
        "colab": {
          "base_uri": "https://localhost:8080/"
        },
        "id": "7eoIrA_e2Fuw",
        "outputId": "f5579d27-3feb-40a6-8e3a-0e6001575dee"
      },
      "execution_count": 2,
      "outputs": [
        {
          "output_type": "stream",
          "name": "stdout",
          "text": [
            "Mounted at /content/Drive\n"
          ]
        }
      ]
    },
    {
      "cell_type": "code",
      "source": [
        "# file path reading or csv upload to coolab from drive\n",
        "file_path='/content/Drive/MyDrive/Colab Notebooks/Machine Learning/ML Project/data.csv'       \n",
        "housing = pd.read_csv(file_path)"
      ],
      "metadata": {
        "id": "sdBud2Se25W_"
      },
      "execution_count": 3,
      "outputs": []
    },
    {
      "cell_type": "markdown",
      "source": [
        "**we can solve this problam with two mathods**\n",
        "\n",
        "\n",
        "1.   Using a hand written function\n",
        "2.   Using sklearn librarry\n",
        "\n"
      ],
      "metadata": {
        "id": "seR_n3MQUloJ"
      }
    },
    {
      "cell_type": "markdown",
      "source": [
        "**1- Using a hand written function**"
      ],
      "metadata": {
        "id": "yQ8CeaN6U-60"
      }
    },
    {
      "cell_type": "code",
      "source": [
        "# For learning purpose\n",
        "import numpy as np\n",
        "def train_split_test(data, test_ratio):\n",
        "  np.random.seed(42)\n",
        "  shuffled = np.random.permutation(len(data))\n",
        " \n",
        "  test_set_size = int(len(data)*test_ratio)\n",
        "  test_indices = shuffled[:test_set_size]\n",
        "  train_indices = shuffled[test_set_size:]\n",
        "  return data.iloc[train_indices], data.iloc[test_indices]"
      ],
      "metadata": {
        "id": "RCpx-UIYQOQK"
      },
      "execution_count": 16,
      "outputs": []
    },
    {
      "cell_type": "code",
      "source": [
        "# using the function \n",
        "train_set, test_set = train_split_test(housing, 0.2)\n",
        "\n",
        "# try to print the train and test result\n",
        "print(f\"Rows in train set: {len(train_set)}\\nRows in test set: {len(test_set)}\\n\")"
      ],
      "metadata": {
        "id": "eL5k0bW1R3re",
        "colab": {
          "base_uri": "https://localhost:8080/"
        },
        "outputId": "0b200ac2-ca53-4ae1-9047-a15d3ac9d4fa"
      },
      "execution_count": 17,
      "outputs": [
        {
          "output_type": "stream",
          "name": "stdout",
          "text": [
            "Rows in train set: 405\n",
            "Rows in test set: 101\n",
            "\n"
          ]
        }
      ]
    },
    {
      "cell_type": "markdown",
      "source": [
        "\n",
        "\n",
        "---\n",
        "\n"
      ],
      "metadata": {
        "id": "nPC4m3LCUeG_"
      }
    },
    {
      "cell_type": "markdown",
      "source": [
        "**2- now we are using a sklearn librarry and do this in 2 lines of code**"
      ],
      "metadata": {
        "id": "yA5t7fEBUOZg"
      }
    },
    {
      "cell_type": "code",
      "source": [
        "from sklearn.model_selection import train_test_split\n",
        "train_data, test_data = train_test_split(housing, test_size = 0.2, random_state=42)\n",
        "print(f'Row in train set: {len(train_data)} \\n Rows in test set: {len(test_data)}\\n')"
      ],
      "metadata": {
        "id": "R_Fas-fYVIxS",
        "colab": {
          "base_uri": "https://localhost:8080/"
        },
        "outputId": "64816783-7775-4ec7-ccc5-66c0b064d68c"
      },
      "execution_count": 18,
      "outputs": [
        {
          "output_type": "stream",
          "name": "stdout",
          "text": [
            "Row in train set: 404 \n",
            " Rows in test set: 102\n",
            "\n"
          ]
        }
      ]
    }
  ]
}
